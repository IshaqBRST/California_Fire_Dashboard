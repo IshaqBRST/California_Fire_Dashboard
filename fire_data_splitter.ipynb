{
 "cells": [
  {
   "cell_type": "code",
   "execution_count": 3,
   "id": "c7bc7ed1-95fe-4572-b45f-7143508f5655",
   "metadata": {},
   "outputs": [],
   "source": [
    "import pandas as pd"
   ]
  },
  {
   "cell_type": "code",
   "execution_count": 4,
   "id": "9899be8b-8669-4048-8602-9893febf7c8d",
   "metadata": {},
   "outputs": [],
   "source": [
    "def str_cut(a):\n",
    "    return a[:4]"
   ]
  },
  {
   "cell_type": "code",
   "execution_count": 12,
   "id": "b89eee20-1085-4e8e-b2a7-d76c7ee3c0c2",
   "metadata": {},
   "outputs": [],
   "source": [
    "df = pd.read_csv('./DL_FIRE_M-C61_426750/fire_archive_M-C61_426750.csv')\n",
    "df2 = pd.read_csv('./DL_FIRE_M-C61_426750/fire_nrt_M-C61_426750.csv')"
   ]
  },
  {
   "cell_type": "code",
   "execution_count": 13,
   "id": "3701044d-7471-407c-a52d-ce485baf050e",
   "metadata": {},
   "outputs": [
    {
     "data": {
      "text/html": [
       "<div>\n",
       "<style scoped>\n",
       "    .dataframe tbody tr th:only-of-type {\n",
       "        vertical-align: middle;\n",
       "    }\n",
       "\n",
       "    .dataframe tbody tr th {\n",
       "        vertical-align: top;\n",
       "    }\n",
       "\n",
       "    .dataframe thead th {\n",
       "        text-align: right;\n",
       "    }\n",
       "</style>\n",
       "<table border=\"1\" class=\"dataframe\">\n",
       "  <thead>\n",
       "    <tr style=\"text-align: right;\">\n",
       "      <th></th>\n",
       "      <th>latitude</th>\n",
       "      <th>longitude</th>\n",
       "      <th>brightness</th>\n",
       "      <th>scan</th>\n",
       "      <th>track</th>\n",
       "      <th>acq_date</th>\n",
       "      <th>acq_time</th>\n",
       "      <th>satellite</th>\n",
       "      <th>instrument</th>\n",
       "      <th>confidence</th>\n",
       "      <th>version</th>\n",
       "      <th>bright_t31</th>\n",
       "      <th>frp</th>\n",
       "      <th>daynight</th>\n",
       "      <th>year</th>\n",
       "    </tr>\n",
       "  </thead>\n",
       "  <tbody>\n",
       "    <tr>\n",
       "      <th>0</th>\n",
       "      <td>33.41957</td>\n",
       "      <td>-110.86527</td>\n",
       "      <td>337.11</td>\n",
       "      <td>1.28</td>\n",
       "      <td>1.12</td>\n",
       "      <td>2023-02-01</td>\n",
       "      <td>457</td>\n",
       "      <td>Terra</td>\n",
       "      <td>MODIS</td>\n",
       "      <td>100</td>\n",
       "      <td>6.1NRT</td>\n",
       "      <td>277.00</td>\n",
       "      <td>63.34</td>\n",
       "      <td>N</td>\n",
       "      <td>2023</td>\n",
       "    </tr>\n",
       "    <tr>\n",
       "      <th>1</th>\n",
       "      <td>39.01343</td>\n",
       "      <td>-78.35137</td>\n",
       "      <td>302.35</td>\n",
       "      <td>2.09</td>\n",
       "      <td>1.41</td>\n",
       "      <td>2023-02-01</td>\n",
       "      <td>1520</td>\n",
       "      <td>Terra</td>\n",
       "      <td>MODIS</td>\n",
       "      <td>52</td>\n",
       "      <td>6.1NRT</td>\n",
       "      <td>275.11</td>\n",
       "      <td>26.65</td>\n",
       "      <td>D</td>\n",
       "      <td>2023</td>\n",
       "    </tr>\n",
       "    <tr>\n",
       "      <th>2</th>\n",
       "      <td>28.70231</td>\n",
       "      <td>-82.02740</td>\n",
       "      <td>316.50</td>\n",
       "      <td>2.78</td>\n",
       "      <td>1.59</td>\n",
       "      <td>2023-02-01</td>\n",
       "      <td>1522</td>\n",
       "      <td>Terra</td>\n",
       "      <td>MODIS</td>\n",
       "      <td>66</td>\n",
       "      <td>6.1NRT</td>\n",
       "      <td>294.86</td>\n",
       "      <td>47.93</td>\n",
       "      <td>D</td>\n",
       "      <td>2023</td>\n",
       "    </tr>\n",
       "    <tr>\n",
       "      <th>3</th>\n",
       "      <td>26.67987</td>\n",
       "      <td>-80.58160</td>\n",
       "      <td>312.51</td>\n",
       "      <td>2.06</td>\n",
       "      <td>1.40</td>\n",
       "      <td>2023-02-01</td>\n",
       "      <td>1524</td>\n",
       "      <td>Terra</td>\n",
       "      <td>MODIS</td>\n",
       "      <td>48</td>\n",
       "      <td>6.1NRT</td>\n",
       "      <td>295.06</td>\n",
       "      <td>14.41</td>\n",
       "      <td>D</td>\n",
       "      <td>2023</td>\n",
       "    </tr>\n",
       "    <tr>\n",
       "      <th>4</th>\n",
       "      <td>26.98986</td>\n",
       "      <td>-80.41743</td>\n",
       "      <td>312.04</td>\n",
       "      <td>2.02</td>\n",
       "      <td>1.39</td>\n",
       "      <td>2023-02-01</td>\n",
       "      <td>1524</td>\n",
       "      <td>Terra</td>\n",
       "      <td>MODIS</td>\n",
       "      <td>63</td>\n",
       "      <td>6.1NRT</td>\n",
       "      <td>295.05</td>\n",
       "      <td>18.34</td>\n",
       "      <td>D</td>\n",
       "      <td>2023</td>\n",
       "    </tr>\n",
       "  </tbody>\n",
       "</table>\n",
       "</div>"
      ],
      "text/plain": [
       "   latitude  longitude  brightness  scan  track    acq_date  acq_time  \\\n",
       "0  33.41957 -110.86527      337.11  1.28   1.12  2023-02-01       457   \n",
       "1  39.01343  -78.35137      302.35  2.09   1.41  2023-02-01      1520   \n",
       "2  28.70231  -82.02740      316.50  2.78   1.59  2023-02-01      1522   \n",
       "3  26.67987  -80.58160      312.51  2.06   1.40  2023-02-01      1524   \n",
       "4  26.98986  -80.41743      312.04  2.02   1.39  2023-02-01      1524   \n",
       "\n",
       "  satellite instrument  confidence version  bright_t31    frp daynight  year  \n",
       "0     Terra      MODIS         100  6.1NRT      277.00  63.34        N  2023  \n",
       "1     Terra      MODIS          52  6.1NRT      275.11  26.65        D  2023  \n",
       "2     Terra      MODIS          66  6.1NRT      294.86  47.93        D  2023  \n",
       "3     Terra      MODIS          48  6.1NRT      295.06  14.41        D  2023  \n",
       "4     Terra      MODIS          63  6.1NRT      295.05  18.34        D  2023  "
      ]
     },
     "execution_count": 13,
     "metadata": {},
     "output_type": "execute_result"
    }
   ],
   "source": [
    "df['year'] = df['acq_date'].apply(str_cut)\n",
    "df2['year'] = df2['acq_date'].apply(str_cut)\n",
    "df2.head()"
   ]
  },
  {
   "cell_type": "code",
   "execution_count": 75,
   "id": "224c450b-268c-4544-ab9d-7a370116f4f6",
   "metadata": {},
   "outputs": [
    {
     "data": {
      "text/plain": [
       "1573152"
      ]
     },
     "execution_count": 75,
     "metadata": {},
     "output_type": "execute_result"
    }
   ],
   "source": [
    "df_2010 = df.where(df['year'] == '2010')\n",
    "df_2010.dropna(inplace = True)\n",
    "df_2010.to_csv('./DL_FIRE_M-C61_426750/fire_data_2010.csv')\n",
    "df_2010.size"
   ]
  },
  {
   "cell_type": "code",
   "execution_count": 76,
   "id": "a980757f-f1ac-417c-81c2-177f8e605475",
   "metadata": {},
   "outputs": [
    {
     "data": {
      "text/plain": [
       "1981872"
      ]
     },
     "execution_count": 76,
     "metadata": {},
     "output_type": "execute_result"
    }
   ],
   "source": [
    "df_2011 = df.where(df['year'] == '2011')\n",
    "df_2011.dropna(inplace = True)\n",
    "df_2011.to_csv('./DL_FIRE_M-C61_426750/fire_data_2011.csv')\n",
    "df_2011.size"
   ]
  },
  {
   "cell_type": "code",
   "execution_count": 77,
   "id": "5cbbbab6-4719-4e4f-8b85-f7e2984fe5c0",
   "metadata": {},
   "outputs": [
    {
     "data": {
      "text/plain": [
       "2196720"
      ]
     },
     "execution_count": 77,
     "metadata": {},
     "output_type": "execute_result"
    }
   ],
   "source": [
    "df_2012 = df.where(df['year'] == '2012')\n",
    "df_2012.dropna(inplace = True)\n",
    "df_2012.to_csv('./DL_FIRE_M-C61_426750/fire_data_2012.csv')\n",
    "df_2012.size"
   ]
  },
  {
   "cell_type": "code",
   "execution_count": 78,
   "id": "fa815444-9b0f-4693-abc8-bfcdeb5e1c1c",
   "metadata": {},
   "outputs": [
    {
     "data": {
      "text/plain": [
       "1637568"
      ]
     },
     "execution_count": 78,
     "metadata": {},
     "output_type": "execute_result"
    }
   ],
   "source": [
    "df_2013 = df.where(df['year'] == '2013')\n",
    "df_2013.dropna(inplace = True)\n",
    "df_2013.to_csv('./DL_FIRE_M-C61_426750/fire_data_2013.csv')\n",
    "df_2013.size"
   ]
  },
  {
   "cell_type": "code",
   "execution_count": 79,
   "id": "6d698130-4757-4cdd-9d12-2a9a99a22726",
   "metadata": {},
   "outputs": [
    {
     "data": {
      "text/plain": [
       "1581936"
      ]
     },
     "execution_count": 79,
     "metadata": {},
     "output_type": "execute_result"
    }
   ],
   "source": [
    "df_2014 = df.where(df['year'] == '2014')\n",
    "df_2014.dropna(inplace = True)\n",
    "df_2014.to_csv('./DL_FIRE_M-C61_426750/fire_data_2014.csv')\n",
    "df_2014.size"
   ]
  },
  {
   "cell_type": "code",
   "execution_count": 80,
   "id": "a3c6d929-f0fe-4486-a5bb-572b1f79dc6d",
   "metadata": {},
   "outputs": [
    {
     "data": {
      "text/plain": [
       "2351744"
      ]
     },
     "execution_count": 80,
     "metadata": {},
     "output_type": "execute_result"
    }
   ],
   "source": [
    "df_2015 = df.where(df['year'] == '2015')\n",
    "df_2015.dropna(inplace = True)\n",
    "df_2015.to_csv('./DL_FIRE_M-C61_426750/fire_data_2015.csv')\n",
    "df_2015.size"
   ]
  },
  {
   "cell_type": "code",
   "execution_count": 81,
   "id": "70c01fcc-c1f8-40c6-b230-c460571ccaaa",
   "metadata": {},
   "outputs": [
    {
     "data": {
      "text/plain": [
       "1803776"
      ]
     },
     "execution_count": 81,
     "metadata": {},
     "output_type": "execute_result"
    }
   ],
   "source": [
    "df_2016 = df.where(df['year'] == '2016')\n",
    "df_2016.dropna(inplace = True)\n",
    "df_2016.to_csv('./DL_FIRE_M-C61_426750/fire_data_2016.csv')\n",
    "df_2016.size"
   ]
  },
  {
   "cell_type": "code",
   "execution_count": 82,
   "id": "659298c2-9e58-40f5-9e84-862987ce340a",
   "metadata": {},
   "outputs": [
    {
     "data": {
      "text/plain": [
       "2443232"
      ]
     },
     "execution_count": 82,
     "metadata": {},
     "output_type": "execute_result"
    }
   ],
   "source": [
    "df_2017 = df.where(df['year'] == '2017')\n",
    "df_2017.dropna(inplace = True)\n",
    "df_2017.to_csv('./DL_FIRE_M-C61_426750/fire_data_2017.csv')\n",
    "df_2017.size"
   ]
  },
  {
   "cell_type": "code",
   "execution_count": 83,
   "id": "891fa9c4-50a2-4776-b582-62191584a3e9",
   "metadata": {},
   "outputs": [
    {
     "data": {
      "text/plain": [
       "2095776"
      ]
     },
     "execution_count": 83,
     "metadata": {},
     "output_type": "execute_result"
    }
   ],
   "source": [
    "df_2018 = df.where(df['year'] == '2018')\n",
    "df_2018.dropna(inplace = True)\n",
    "df_2018.to_csv('./DL_FIRE_M-C61_426750/fire_data_2018.csv')\n",
    "df_2018.size"
   ]
  },
  {
   "cell_type": "code",
   "execution_count": 84,
   "id": "83c26d5c-52c1-40b7-b589-9ffb54b6e61d",
   "metadata": {},
   "outputs": [
    {
     "data": {
      "text/plain": [
       "1715408"
      ]
     },
     "execution_count": 84,
     "metadata": {},
     "output_type": "execute_result"
    }
   ],
   "source": [
    "df_2019 = df.where(df['year'] == '2019')\n",
    "df_2019.dropna(inplace = True)\n",
    "df_2019.to_csv('./DL_FIRE_M-C61_426750/fire_data_2019.csv')\n",
    "df_2019.size"
   ]
  },
  {
   "cell_type": "code",
   "execution_count": 85,
   "id": "c71ab8d6-fa3f-4368-8c71-f37710befb24",
   "metadata": {},
   "outputs": [
    {
     "data": {
      "text/plain": [
       "2461568"
      ]
     },
     "execution_count": 85,
     "metadata": {},
     "output_type": "execute_result"
    }
   ],
   "source": [
    "df_2020 = df.where(df['year'] == '2020')\n",
    "df_2020.dropna(inplace = True)\n",
    "df_2020.to_csv('./DL_FIRE_M-C61_426750/fire_data_2020.csv')\n",
    "df_2020.size"
   ]
  },
  {
   "cell_type": "code",
   "execution_count": 7,
   "id": "57d18d88-11ed-4022-b647-cc06e201b6fb",
   "metadata": {},
   "outputs": [
    {
     "data": {
      "text/plain": [
       "2618992"
      ]
     },
     "execution_count": 7,
     "metadata": {},
     "output_type": "execute_result"
    }
   ],
   "source": [
    "df_2021 = df.where(df['year'] == '2021')\n",
    "df_2021.dropna(inplace = True)\n",
    "df_2021.to_csv('./DL_FIRE_M-C61_426750/fire_data_2021.csv')\n",
    "df_2021.size"
   ]
  },
  {
   "cell_type": "code",
   "execution_count": 8,
   "id": "ce32aa97-d0c2-4582-9e84-f2e927722407",
   "metadata": {},
   "outputs": [
    {
     "data": {
      "text/plain": [
       "2085728"
      ]
     },
     "execution_count": 8,
     "metadata": {},
     "output_type": "execute_result"
    }
   ],
   "source": [
    "df_2022 = df.where(df['year'] == '2022')\n",
    "df_2022.dropna(inplace = True)\n",
    "df_2022.to_csv('./DL_FIRE_M-C61_426750/fire_data_2022.csv')\n",
    "df_2022.size"
   ]
  },
  {
   "cell_type": "code",
   "execution_count": 32,
   "id": "ce6241ec-d3de-4db0-8bb2-00d69df37bc9",
   "metadata": {},
   "outputs": [
    {
     "data": {
      "text/plain": [
       "71104"
      ]
     },
     "execution_count": 32,
     "metadata": {},
     "output_type": "execute_result"
    }
   ],
   "source": [
    "df_2023_1 = df.where(df['year'] == '2023')\n",
    "df_2023_1.dropna(inplace = True)\n",
    "df_2023_1.size"
   ]
  },
  {
   "cell_type": "code",
   "execution_count": 33,
   "id": "217a5a73-332e-4177-b215-7bf345ee8628",
   "metadata": {},
   "outputs": [
    {
     "data": {
      "text/plain": [
       "1341465"
      ]
     },
     "execution_count": 33,
     "metadata": {},
     "output_type": "execute_result"
    }
   ],
   "source": [
    "df_2023_2 = df2.where(df2['year'] == '2023')\n",
    "df_2023_2.dropna(inplace = True)\n",
    "df_2023_2.size"
   ]
  },
  {
   "cell_type": "code",
   "execution_count": 35,
   "id": "3af322aa-71c4-4cf7-8993-a14d933da1a1",
   "metadata": {},
   "outputs": [
    {
     "data": {
      "text/plain": [
       "93875"
      ]
     },
     "execution_count": 35,
     "metadata": {},
     "output_type": "execute_result"
    }
   ],
   "source": [
    "df_2023 = pd.concat([df_2023_1, df_2023_2], ignore_index=True)\n",
    "len(df_2023)"
   ]
  },
  {
   "cell_type": "code",
   "execution_count": 31,
   "id": "e0fa0d3c-c846-4336-ab23-6f0d7fbc7e28",
   "metadata": {},
   "outputs": [
    {
     "name": "stdout",
     "output_type": "stream",
     "text": [
      "1412569\n"
     ]
    }
   ],
   "source": [
    "print(1341465+71104)"
   ]
  },
  {
   "cell_type": "code",
   "execution_count": 26,
   "id": "7ce7adc8-4a44-43de-ab34-b04826699d4c",
   "metadata": {},
   "outputs": [
    {
     "data": {
      "text/html": [
       "<div>\n",
       "<style scoped>\n",
       "    .dataframe tbody tr th:only-of-type {\n",
       "        vertical-align: middle;\n",
       "    }\n",
       "\n",
       "    .dataframe tbody tr th {\n",
       "        vertical-align: top;\n",
       "    }\n",
       "\n",
       "    .dataframe thead th {\n",
       "        text-align: right;\n",
       "    }\n",
       "</style>\n",
       "<table border=\"1\" class=\"dataframe\">\n",
       "  <thead>\n",
       "    <tr style=\"text-align: right;\">\n",
       "      <th></th>\n",
       "      <th>latitude</th>\n",
       "      <th>longitude</th>\n",
       "      <th>brightness</th>\n",
       "      <th>scan</th>\n",
       "      <th>track</th>\n",
       "      <th>acq_date</th>\n",
       "      <th>acq_time</th>\n",
       "      <th>satellite</th>\n",
       "      <th>instrument</th>\n",
       "      <th>confidence</th>\n",
       "      <th>version</th>\n",
       "      <th>bright_t31</th>\n",
       "      <th>frp</th>\n",
       "      <th>daynight</th>\n",
       "      <th>type</th>\n",
       "      <th>year</th>\n",
       "    </tr>\n",
       "  </thead>\n",
       "  <tbody>\n",
       "    <tr>\n",
       "      <th>71103</th>\n",
       "      <td>40.76364</td>\n",
       "      <td>-81.43148</td>\n",
       "      <td>305.50</td>\n",
       "      <td>1.00</td>\n",
       "      <td>1.00</td>\n",
       "      <td>2023-10-04</td>\n",
       "      <td>746.0</td>\n",
       "      <td>Aqua</td>\n",
       "      <td>MODIS</td>\n",
       "      <td>65.0</td>\n",
       "      <td>6.1NRT</td>\n",
       "      <td>287.20</td>\n",
       "      <td>8.23</td>\n",
       "      <td>N</td>\n",
       "      <td>NaN</td>\n",
       "      <td>2023</td>\n",
       "    </tr>\n",
       "    <tr>\n",
       "      <th>71104</th>\n",
       "      <td>54.78302</td>\n",
       "      <td>-163.93991</td>\n",
       "      <td>311.81</td>\n",
       "      <td>1.17</td>\n",
       "      <td>1.07</td>\n",
       "      <td>2023-10-04</td>\n",
       "      <td>826.0</td>\n",
       "      <td>Terra</td>\n",
       "      <td>MODIS</td>\n",
       "      <td>83.0</td>\n",
       "      <td>6.1NRT</td>\n",
       "      <td>271.37</td>\n",
       "      <td>19.96</td>\n",
       "      <td>N</td>\n",
       "      <td>NaN</td>\n",
       "      <td>2023</td>\n",
       "    </tr>\n",
       "    <tr>\n",
       "      <th>71105</th>\n",
       "      <td>54.77134</td>\n",
       "      <td>-163.95735</td>\n",
       "      <td>300.92</td>\n",
       "      <td>1.16</td>\n",
       "      <td>1.07</td>\n",
       "      <td>2023-10-04</td>\n",
       "      <td>826.0</td>\n",
       "      <td>Terra</td>\n",
       "      <td>MODIS</td>\n",
       "      <td>24.0</td>\n",
       "      <td>6.1NRT</td>\n",
       "      <td>274.74</td>\n",
       "      <td>11.23</td>\n",
       "      <td>N</td>\n",
       "      <td>NaN</td>\n",
       "      <td>2023</td>\n",
       "    </tr>\n",
       "    <tr>\n",
       "      <th>71106</th>\n",
       "      <td>54.75950</td>\n",
       "      <td>-163.97636</td>\n",
       "      <td>318.95</td>\n",
       "      <td>1.16</td>\n",
       "      <td>1.07</td>\n",
       "      <td>2023-10-04</td>\n",
       "      <td>826.0</td>\n",
       "      <td>Terra</td>\n",
       "      <td>MODIS</td>\n",
       "      <td>93.0</td>\n",
       "      <td>6.1NRT</td>\n",
       "      <td>275.32</td>\n",
       "      <td>26.74</td>\n",
       "      <td>N</td>\n",
       "      <td>NaN</td>\n",
       "      <td>2023</td>\n",
       "    </tr>\n",
       "    <tr>\n",
       "      <th>71107</th>\n",
       "      <td>54.76156</td>\n",
       "      <td>-163.95735</td>\n",
       "      <td>343.96</td>\n",
       "      <td>1.16</td>\n",
       "      <td>1.07</td>\n",
       "      <td>2023-10-04</td>\n",
       "      <td>826.0</td>\n",
       "      <td>Terra</td>\n",
       "      <td>MODIS</td>\n",
       "      <td>100.0</td>\n",
       "      <td>6.1NRT</td>\n",
       "      <td>286.68</td>\n",
       "      <td>68.81</td>\n",
       "      <td>N</td>\n",
       "      <td>NaN</td>\n",
       "      <td>2023</td>\n",
       "    </tr>\n",
       "    <tr>\n",
       "      <th>71108</th>\n",
       "      <td>19.41239</td>\n",
       "      <td>-155.27553</td>\n",
       "      <td>310.31</td>\n",
       "      <td>1.86</td>\n",
       "      <td>1.33</td>\n",
       "      <td>2023-10-04</td>\n",
       "      <td>1249.0</td>\n",
       "      <td>Aqua</td>\n",
       "      <td>MODIS</td>\n",
       "      <td>70.0</td>\n",
       "      <td>6.1NRT</td>\n",
       "      <td>296.33</td>\n",
       "      <td>29.67</td>\n",
       "      <td>N</td>\n",
       "      <td>NaN</td>\n",
       "      <td>2023</td>\n",
       "    </tr>\n",
       "  </tbody>\n",
       "</table>\n",
       "</div>"
      ],
      "text/plain": [
       "       latitude  longitude  brightness  scan  track    acq_date  acq_time  \\\n",
       "71103  40.76364  -81.43148      305.50  1.00   1.00  2023-10-04     746.0   \n",
       "71104  54.78302 -163.93991      311.81  1.17   1.07  2023-10-04     826.0   \n",
       "71105  54.77134 -163.95735      300.92  1.16   1.07  2023-10-04     826.0   \n",
       "71106  54.75950 -163.97636      318.95  1.16   1.07  2023-10-04     826.0   \n",
       "71107  54.76156 -163.95735      343.96  1.16   1.07  2023-10-04     826.0   \n",
       "71108  19.41239 -155.27553      310.31  1.86   1.33  2023-10-04    1249.0   \n",
       "\n",
       "      satellite instrument  confidence version  bright_t31    frp daynight  \\\n",
       "71103      Aqua      MODIS        65.0  6.1NRT      287.20   8.23        N   \n",
       "71104     Terra      MODIS        83.0  6.1NRT      271.37  19.96        N   \n",
       "71105     Terra      MODIS        24.0  6.1NRT      274.74  11.23        N   \n",
       "71106     Terra      MODIS        93.0  6.1NRT      275.32  26.74        N   \n",
       "71107     Terra      MODIS       100.0  6.1NRT      286.68  68.81        N   \n",
       "71108      Aqua      MODIS        70.0  6.1NRT      296.33  29.67        N   \n",
       "\n",
       "       type  year  \n",
       "71103   NaN  2023  \n",
       "71104   NaN  2023  \n",
       "71105   NaN  2023  \n",
       "71106   NaN  2023  \n",
       "71107   NaN  2023  \n",
       "71108   NaN  2023  "
      ]
     },
     "execution_count": 26,
     "metadata": {},
     "output_type": "execute_result"
    }
   ],
   "source": [
    "df_2023[71103:71109]"
   ]
  },
  {
   "cell_type": "code",
   "execution_count": null,
   "id": "65f0565a-d812-4b73-8e96-a3d3452574bf",
   "metadata": {},
   "outputs": [],
   "source": []
  }
 ],
 "metadata": {
  "kernelspec": {
   "display_name": "Python 3 (ipykernel)",
   "language": "python",
   "name": "python3"
  },
  "language_info": {
   "codemirror_mode": {
    "name": "ipython",
    "version": 3
   },
   "file_extension": ".py",
   "mimetype": "text/x-python",
   "name": "python",
   "nbconvert_exporter": "python",
   "pygments_lexer": "ipython3",
   "version": "3.10.12"
  }
 },
 "nbformat": 4,
 "nbformat_minor": 5
}
