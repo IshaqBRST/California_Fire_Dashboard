{
 "cells": [
  {
   "cell_type": "code",
   "execution_count": 10,
   "id": "81af3a24-e8ea-49e2-9b5f-b9369a48a214",
   "metadata": {},
   "outputs": [],
   "source": [
    "import pandas as pd\n",
    "import numpy as np\n",
    "import matplotlib.pyplot as plt\n",
    "from sklearn.decomposition import PCA\n",
    "from sklearn.preprocessing import scale, StandardScaler\n",
    "from sklearn.model_selection import train_test_split\n",
    "from sklearn.ensemble import RandomForestClassifier\n",
    "from sklearn.metrics import classification_report\n",
    "from sklearn.svm import SVC"
   ]
  },
  {
   "cell_type": "code",
   "execution_count": 2,
   "id": "6a424e5e-771d-4489-a359-249240e6c28e",
   "metadata": {},
   "outputs": [
    {
     "data": {
      "text/html": [
       "<div>\n",
       "<style scoped>\n",
       "    .dataframe tbody tr th:only-of-type {\n",
       "        vertical-align: middle;\n",
       "    }\n",
       "\n",
       "    .dataframe tbody tr th {\n",
       "        vertical-align: top;\n",
       "    }\n",
       "\n",
       "    .dataframe thead th {\n",
       "        text-align: right;\n",
       "    }\n",
       "</style>\n",
       "<table border=\"1\" class=\"dataframe\">\n",
       "  <thead>\n",
       "    <tr style=\"text-align: right;\">\n",
       "      <th></th>\n",
       "      <th>humidity</th>\n",
       "      <th>longitude</th>\n",
       "      <th>latitude</th>\n",
       "      <th>date</th>\n",
       "      <th>temperature</th>\n",
       "      <th>precipitation</th>\n",
       "      <th>wind_speed</th>\n",
       "      <th>fire</th>\n",
       "    </tr>\n",
       "  </thead>\n",
       "  <tbody>\n",
       "    <tr>\n",
       "      <th>0</th>\n",
       "      <td>0.011474</td>\n",
       "      <td>-117.0</td>\n",
       "      <td>32.5</td>\n",
       "      <td>2015-08-11</td>\n",
       "      <td>296.54483</td>\n",
       "      <td>0.0</td>\n",
       "      <td>0.000000</td>\n",
       "      <td>0.0</td>\n",
       "    </tr>\n",
       "    <tr>\n",
       "      <th>1</th>\n",
       "      <td>0.009796</td>\n",
       "      <td>-116.5</td>\n",
       "      <td>32.5</td>\n",
       "      <td>2015-08-11</td>\n",
       "      <td>296.70218</td>\n",
       "      <td>0.0</td>\n",
       "      <td>0.000000</td>\n",
       "      <td>0.0</td>\n",
       "    </tr>\n",
       "    <tr>\n",
       "      <th>2</th>\n",
       "      <td>0.008041</td>\n",
       "      <td>-116.0</td>\n",
       "      <td>32.5</td>\n",
       "      <td>2015-08-11</td>\n",
       "      <td>302.85245</td>\n",
       "      <td>0.0</td>\n",
       "      <td>0.000000</td>\n",
       "      <td>0.0</td>\n",
       "    </tr>\n",
       "    <tr>\n",
       "      <th>3</th>\n",
       "      <td>0.011642</td>\n",
       "      <td>-117.0</td>\n",
       "      <td>33.0</td>\n",
       "      <td>2015-08-11</td>\n",
       "      <td>296.78555</td>\n",
       "      <td>0.0</td>\n",
       "      <td>4.758888</td>\n",
       "      <td>0.0</td>\n",
       "    </tr>\n",
       "    <tr>\n",
       "      <th>4</th>\n",
       "      <td>0.009769</td>\n",
       "      <td>-116.5</td>\n",
       "      <td>33.0</td>\n",
       "      <td>2015-08-11</td>\n",
       "      <td>296.72223</td>\n",
       "      <td>0.0</td>\n",
       "      <td>0.000000</td>\n",
       "      <td>0.0</td>\n",
       "    </tr>\n",
       "    <tr>\n",
       "      <th>...</th>\n",
       "      <td>...</td>\n",
       "      <td>...</td>\n",
       "      <td>...</td>\n",
       "      <td>...</td>\n",
       "      <td>...</td>\n",
       "      <td>...</td>\n",
       "      <td>...</td>\n",
       "      <td>...</td>\n",
       "    </tr>\n",
       "    <tr>\n",
       "      <th>5668</th>\n",
       "      <td>0.000000</td>\n",
       "      <td>-123.0</td>\n",
       "      <td>38.5</td>\n",
       "      <td>2015-08-20</td>\n",
       "      <td>0.00000</td>\n",
       "      <td>0.0</td>\n",
       "      <td>4.923879</td>\n",
       "      <td>0.0</td>\n",
       "    </tr>\n",
       "    <tr>\n",
       "      <th>5669</th>\n",
       "      <td>0.000000</td>\n",
       "      <td>-124.0</td>\n",
       "      <td>39.5</td>\n",
       "      <td>2015-08-20</td>\n",
       "      <td>0.00000</td>\n",
       "      <td>0.0</td>\n",
       "      <td>3.997697</td>\n",
       "      <td>0.0</td>\n",
       "    </tr>\n",
       "    <tr>\n",
       "      <th>5670</th>\n",
       "      <td>0.000000</td>\n",
       "      <td>-124.0</td>\n",
       "      <td>40.0</td>\n",
       "      <td>2015-08-20</td>\n",
       "      <td>0.00000</td>\n",
       "      <td>0.0</td>\n",
       "      <td>3.725361</td>\n",
       "      <td>0.0</td>\n",
       "    </tr>\n",
       "    <tr>\n",
       "      <th>5671</th>\n",
       "      <td>0.000000</td>\n",
       "      <td>-124.5</td>\n",
       "      <td>40.5</td>\n",
       "      <td>2015-08-20</td>\n",
       "      <td>0.00000</td>\n",
       "      <td>0.0</td>\n",
       "      <td>6.733368</td>\n",
       "      <td>0.0</td>\n",
       "    </tr>\n",
       "    <tr>\n",
       "      <th>5672</th>\n",
       "      <td>0.000000</td>\n",
       "      <td>-124.0</td>\n",
       "      <td>41.5</td>\n",
       "      <td>2015-08-20</td>\n",
       "      <td>0.00000</td>\n",
       "      <td>0.0</td>\n",
       "      <td>3.746957</td>\n",
       "      <td>1.0</td>\n",
       "    </tr>\n",
       "  </tbody>\n",
       "</table>\n",
       "<p>5673 rows × 8 columns</p>\n",
       "</div>"
      ],
      "text/plain": [
       "      humidity  longitude  latitude        date  temperature  precipitation  \\\n",
       "0     0.011474     -117.0      32.5  2015-08-11    296.54483            0.0   \n",
       "1     0.009796     -116.5      32.5  2015-08-11    296.70218            0.0   \n",
       "2     0.008041     -116.0      32.5  2015-08-11    302.85245            0.0   \n",
       "3     0.011642     -117.0      33.0  2015-08-11    296.78555            0.0   \n",
       "4     0.009769     -116.5      33.0  2015-08-11    296.72223            0.0   \n",
       "...        ...        ...       ...         ...          ...            ...   \n",
       "5668  0.000000     -123.0      38.5  2015-08-20      0.00000            0.0   \n",
       "5669  0.000000     -124.0      39.5  2015-08-20      0.00000            0.0   \n",
       "5670  0.000000     -124.0      40.0  2015-08-20      0.00000            0.0   \n",
       "5671  0.000000     -124.5      40.5  2015-08-20      0.00000            0.0   \n",
       "5672  0.000000     -124.0      41.5  2015-08-20      0.00000            0.0   \n",
       "\n",
       "      wind_speed  fire  \n",
       "0       0.000000   0.0  \n",
       "1       0.000000   0.0  \n",
       "2       0.000000   0.0  \n",
       "3       4.758888   0.0  \n",
       "4       0.000000   0.0  \n",
       "...          ...   ...  \n",
       "5668    4.923879   0.0  \n",
       "5669    3.997697   0.0  \n",
       "5670    3.725361   0.0  \n",
       "5671    6.733368   0.0  \n",
       "5672    3.746957   1.0  \n",
       "\n",
       "[5673 rows x 8 columns]"
      ]
     },
     "execution_count": 2,
     "metadata": {},
     "output_type": "execute_result"
    }
   ],
   "source": [
    "ML_dataframe = pd.read_csv('./ML_dataframe.csv')\n",
    "ML_dataframe"
   ]
  },
  {
   "cell_type": "markdown",
   "id": "09cb2d1f-68a5-43aa-a645-b7ecede795a1",
   "metadata": {},
   "source": [
    "## Perform PCA analysis"
   ]
  },
  {
   "cell_type": "code",
   "execution_count": 3,
   "id": "bb295b30-ff96-49d7-aea3-251c0b36d01a",
   "metadata": {},
   "outputs": [
    {
     "data": {
      "text/plain": [
       "array([[ 1.85390621,  0.22287541, -0.18466947, -1.44906414],\n",
       "       [ 1.24284625,  0.22508313, -0.18466947, -1.44906414],\n",
       "       [ 0.60355588,  0.31137533, -0.18466947, -1.44906414],\n",
       "       ...,\n",
       "       [-2.32557496, -3.93783709, -0.18466947,  0.14698336],\n",
       "       [-2.32557496, -3.93783709, -0.18466947,  1.43569685],\n",
       "       [-2.32557496, -3.93783709, -0.18466947,  0.15623564]])"
      ]
     },
     "execution_count": 3,
     "metadata": {},
     "output_type": "execute_result"
    }
   ],
   "source": [
    "# Scale data\n",
    "\n",
    "df_scaled = scale(ML_dataframe.drop(['date','latitude','longitude','fire'], axis = 1))\n",
    "df_scaled"
   ]
  },
  {
   "cell_type": "code",
   "execution_count": 4,
   "id": "e3e4bb4c-dd9b-4de1-bd0a-e79b3cc531ed",
   "metadata": {},
   "outputs": [],
   "source": [
    "# Perform PCA analysis\n",
    "\n",
    "pca_4 = PCA(n_components = 4)\n",
    "pca_4.fit(df_scaled)\n",
    "\n",
    "df_transformed = pca_4.fit_transform(df_scaled)"
   ]
  },
  {
   "cell_type": "code",
   "execution_count": 5,
   "id": "feff8f4b-d118-4de9-b7dd-043d817aa077",
   "metadata": {},
   "outputs": [
    {
     "name": "stdout",
     "output_type": "stream",
     "text": [
      "[0.40155871 0.2542383  0.23944018 0.10476282]\n"
     ]
    },
    {
     "data": {
      "image/png": "[encoded data removed]",
      "text/plain": [
       "<Figure size 640x480 with 1 Axes>"
      ]
     },
     "metadata": {},
     "output_type": "display_data"
    }
   ],
   "source": [
    "# See explained variances (if can data can be cut to smaller dimensions)\n",
    "\n",
    "print(pca_4.explained_variance_ratio_)\n",
    "\n",
    "plt.plot(np.cumsum(pca_4.explained_variance_ratio_))\n",
    "\n",
    "plt.show()"
   ]
  },
  {
   "cell_type": "code",
   "execution_count": 6,
   "id": "902ccff3-03cb-4f4b-8bb5-41f3ce6af489",
   "metadata": {},
   "outputs": [
    {
     "data": {
      "text/plain": [
       "(5673, 2)"
      ]
     },
     "execution_count": 6,
     "metadata": {},
     "output_type": "execute_result"
    }
   ],
   "source": [
    "# Define new PCA to get two largest components\n",
    "\n",
    "pca_2 = PCA(n_components = 2)\n",
    "\n",
    "df_new = pca_2.fit_transform(df_scaled)\n",
    "df_new.shape"
   ]
  },
  {
   "cell_type": "code",
   "execution_count": 7,
   "id": "c89c027a-20eb-4dea-8c66-bb750fb91593",
   "metadata": {},
   "outputs": [
    {
     "data": {
      "text/html": [
       "<div>\n",
       "<style scoped>\n",
       "    .dataframe tbody tr th:only-of-type {\n",
       "        vertical-align: middle;\n",
       "    }\n",
       "\n",
       "    .dataframe tbody tr th {\n",
       "        vertical-align: top;\n",
       "    }\n",
       "\n",
       "    .dataframe thead th {\n",
       "        text-align: right;\n",
       "    }\n",
       "</style>\n",
       "<table border=\"1\" class=\"dataframe\">\n",
       "  <thead>\n",
       "    <tr style=\"text-align: right;\">\n",
       "      <th></th>\n",
       "      <th>PC1</th>\n",
       "      <th>PC2</th>\n",
       "    </tr>\n",
       "  </thead>\n",
       "  <tbody>\n",
       "    <tr>\n",
       "      <th>humidity</th>\n",
       "      <td>-5.812367</td>\n",
       "      <td>-4.404849</td>\n",
       "    </tr>\n",
       "    <tr>\n",
       "      <th>temperature</th>\n",
       "      <td>-0.154826</td>\n",
       "      <td>0.768978</td>\n",
       "    </tr>\n",
       "    <tr>\n",
       "      <th>precipitation</th>\n",
       "      <td>1.215496</td>\n",
       "      <td>0.069657</td>\n",
       "    </tr>\n",
       "    <tr>\n",
       "      <th>wind_speed</th>\n",
       "      <td>-1.296639</td>\n",
       "      <td>-1.154912</td>\n",
       "    </tr>\n",
       "  </tbody>\n",
       "</table>\n",
       "</div>"
      ],
      "text/plain": [
       "                    PC1       PC2\n",
       "humidity      -5.812367 -4.404849\n",
       "temperature   -0.154826  0.768978\n",
       "precipitation  1.215496  0.069657\n",
       "wind_speed    -1.296639 -1.154912"
      ]
     },
     "execution_count": 7,
     "metadata": {},
     "output_type": "execute_result"
    }
   ],
   "source": [
    "# Create Loading Matrix to see breakdown of two largest principal components\n",
    "\n",
    "loading_matrix = pd.DataFrame(df_transformed[-2:].T* np.sqrt(pca_2.explained_variance_), \n",
    "                              columns=['PC1', 'PC2'], index=ML_dataframe.columns[[0,4,5,6]])\n",
    "loading_matrix"
   ]
  },
  {
   "cell_type": "code",
   "execution_count": 9,
   "id": "7dbfdb05-54a1-4c06-a372-1e21b27744c1",
   "metadata": {},
   "outputs": [
    {
     "data": {
      "image/png": "[encoded data removed]",
      "text/plain": [
       "<Figure size 600x400 with 1 Axes>"
      ]
     },
     "metadata": {},
     "output_type": "display_data"
    }
   ],
   "source": [
    "# Plot breakdowns of two largest principal components\n",
    "\n",
    "ind = np.arange(len(loading_matrix.index))\n",
    "width = 0.35\n",
    "\n",
    "fig, ax = plt.subplots(figsize=(6, 4))\n",
    "ax.bar(ind, loading_matrix['PC1'], width, \n",
    "       label='Component 1 ({:.1f} %)'.format(pca_4.explained_variance_ratio_[0] * 100))\n",
    "ax.bar(ind + width, loading_matrix['PC2'], width, \n",
    "       label='Component 2 ({:.1f} %)'.format(pca_4.explained_variance_ratio_[1] * 100))\n",
    "ax.set_xlabel('Features')\n",
    "ax.set_ylabel('Loading')\n",
    "ax.set_xticks(ind + width / 2)\n",
    "ax.set_xticklabels(loading_matrix.index)\n",
    "ax.tick_params(axis='x', rotation=90)\n",
    "ax.legend()\n",
    "plt.show()"
   ]
  },
  {
   "cell_type": "markdown",
   "id": "727efbc0-81a6-4c3c-81e5-2c3afee902bb",
   "metadata": {},
   "source": [
    "## Random forest"
   ]
  },
  {
   "cell_type": "code",
   "execution_count": 18,
   "id": "95e02a96-f500-45aa-b645-131d5da6ea56",
   "metadata": {},
   "outputs": [
    {
     "data": {
      "text/plain": [
       "array([[ 1.85390621,  0.22287541, -0.18466947, -1.44906414],\n",
       "       [ 1.24284625,  0.22508313, -0.18466947, -1.44906414],\n",
       "       [ 0.60355588,  0.31137533, -0.18466947, -1.44906414],\n",
       "       ...,\n",
       "       [-2.32557496, -3.93783709, -0.18466947,  0.14698336],\n",
       "       [-2.32557496, -3.93783709, -0.18466947,  1.43569685],\n",
       "       [-2.32557496, -3.93783709, -0.18466947,  0.15623564]])"
      ]
     },
     "execution_count": 18,
     "metadata": {},
     "output_type": "execute_result"
    }
   ],
   "source": [
    "# Prepare X and y\n",
    "\n",
    "X = ML_dataframe.drop(['latitude','longitude','date','fire'], axis = 1)\n",
    "scaled_X = StandardScaler().fit_transform(X)\n",
    "\n",
    "y = ML_dataframe['fire']\n",
    "scaled_X"
   ]
  },
  {
   "cell_type": "code",
   "execution_count": 20,
   "id": "2f436fee-253d-4e39-aa65-c29dcdfafed0",
   "metadata": {},
   "outputs": [
    {
     "data": {
      "text/plain": [
       "((4254, 4), (1419, 4))"
      ]
     },
     "execution_count": 20,
     "metadata": {},
     "output_type": "execute_result"
    }
   ],
   "source": [
    "# Split data into training and test data\n",
    "\n",
    "X_train, X_test, y_train, y_test = train_test_split(scaled_X, y, stratify=y, random_state=0)\n",
    "X_train.shape, X_test.shape"
   ]
  },
  {
   "cell_type": "code",
   "execution_count": 23,
   "id": "0cfe3933-648c-4679-93c7-a5940df7a798",
   "metadata": {},
   "outputs": [
    {
     "data": {
      "text/html": [
       "<style>#sk-container-id-2 {color: black;}#sk-container-id-2 pre{padding: 0;}#sk-container-id-2 div.sk-toggleable {background-color: white;}#sk-container-id-2 label.sk-toggleable__label {cursor: pointer;display: block;width: 100%;margin-bottom: 0;padding: 0.3em;box-sizing: border-box;text-align: center;}#sk-container-id-2 label.sk-toggleable__label-arrow:before {content: \"▸\";float: left;margin-right: 0.25em;color: #696969;}#sk-container-id-2 label.sk-toggleable__label-arrow:hover:before {color: black;}#sk-container-id-2 div.sk-estimator:hover label.sk-toggleable__label-arrow:before {color: black;}#sk-container-id-2 div.sk-toggleable__content {max-height: 0;max-width: 0;overflow: hidden;text-align: left;background-color: #f0f8ff;}#sk-container-id-2 div.sk-toggleable__content pre {margin: 0.2em;color: black;border-radius: 0.25em;background-color: #f0f8ff;}#sk-container-id-2 input.sk-toggleable__control:checked~div.sk-toggleable__content {max-height: 200px;max-width: 100%;overflow: auto;}#sk-container-id-2 input.sk-toggleable__control:checked~label.sk-toggleable__label-arrow:before {content: \"▾\";}#sk-container-id-2 div.sk-estimator input.sk-toggleable__control:checked~label.sk-toggleable__label {background-color: #d4ebff;}#sk-container-id-2 div.sk-label input.sk-toggleable__control:checked~label.sk-toggleable__label {background-color: #d4ebff;}#sk-container-id-2 input.sk-hidden--visually {border: 0;clip: rect(1px 1px 1px 1px);clip: rect(1px, 1px, 1px, 1px);height: 1px;margin: -1px;overflow: hidden;padding: 0;position: absolute;width: 1px;}#sk-container-id-2 div.sk-estimator {font-family: monospace;background-color: #f0f8ff;border: 1px dotted black;border-radius: 0.25em;box-sizing: border-box;margin-bottom: 0.5em;}#sk-container-id-2 div.sk-estimator:hover {background-color: #d4ebff;}#sk-container-id-2 div.sk-parallel-item::after {content: \"\";width: 100%;border-bottom: 1px solid gray;flex-grow: 1;}#sk-container-id-2 div.sk-label:hover label.sk-toggleable__label {background-color: #d4ebff;}#sk-container-id-2 div.sk-serial::before {content: \"\";position: absolute;border-left: 1px solid gray;box-sizing: border-box;top: 0;bottom: 0;left: 50%;z-index: 0;}#sk-container-id-2 div.sk-serial {display: flex;flex-direction: column;align-items: center;background-color: white;padding-right: 0.2em;padding-left: 0.2em;position: relative;}#sk-container-id-2 div.sk-item {position: relative;z-index: 1;}#sk-container-id-2 div.sk-parallel {display: flex;align-items: stretch;justify-content: center;background-color: white;position: relative;}#sk-container-id-2 div.sk-item::before, #sk-container-id-2 div.sk-parallel-item::before {content: \"\";position: absolute;border-left: 1px solid gray;box-sizing: border-box;top: 0;bottom: 0;left: 50%;z-index: -1;}#sk-container-id-2 div.sk-parallel-item {display: flex;flex-direction: column;z-index: 1;position: relative;background-color: white;}#sk-container-id-2 div.sk-parallel-item:first-child::after {align-self: flex-end;width: 50%;}#sk-container-id-2 div.sk-parallel-item:last-child::after {align-self: flex-start;width: 50%;}#sk-container-id-2 div.sk-parallel-item:only-child::after {width: 0;}#sk-container-id-2 div.sk-dashed-wrapped {border: 1px dashed gray;margin: 0 0.4em 0.5em 0.4em;box-sizing: border-box;padding-bottom: 0.4em;background-color: white;}#sk-container-id-2 div.sk-label label {font-family: monospace;font-weight: bold;display: inline-block;line-height: 1.2em;}#sk-container-id-2 div.sk-label-container {text-align: center;}#sk-container-id-2 div.sk-container {/* jupyter's `normalize.less` sets `[hidden] { display: none; }` but bootstrap.min.css set `[hidden] { display: none !important; }` so we also need the `!important` here to be able to override the default hidden behavior on the sphinx rendered scikit-learn.org. See: https://github.com/scikit-learn/scikit-learn/issues/21755 */display: inline-block !important;position: relative;}#sk-container-id-2 div.sk-text-repr-fallback {display: none;}</style><div id=\"sk-container-id-2\" class=\"sk-top-container\"><div class=\"sk-text-repr-fallback\"><pre>RandomForestClassifier(random_state=0)</pre><b>In a Jupyter environment, please rerun this cell to show the HTML representation or trust the notebook. <br />On GitHub, the HTML representation is unable to render, please try loading this page with nbviewer.org.</b></div><div class=\"sk-container\" hidden><div class=\"sk-item\"><div class=\"sk-estimator sk-toggleable\"><input class=\"sk-toggleable__control sk-hidden--visually\" id=\"sk-estimator-id-2\" type=\"checkbox\" checked><label for=\"sk-estimator-id-2\" class=\"sk-toggleable__label sk-toggleable__label-arrow\">RandomForestClassifier</label><div class=\"sk-toggleable__content\"><pre>RandomForestClassifier(random_state=0)</pre></div></div></div></div></div>"
      ],
      "text/plain": [
       "RandomForestClassifier(random_state=0)"
      ]
     },
     "execution_count": 23,
     "metadata": {},
     "output_type": "execute_result"
    }
   ],
   "source": [
    "# Fit random forest classifier\n",
    "\n",
    "rf_classifier = RandomForestClassifier(random_state=0)\n",
    "rf_classifier.fit(X_train, y_train)"
   ]
  },
  {
   "cell_type": "code",
   "execution_count": 24,
   "id": "ef669a8e-a2b3-4175-8a85-82d19c9b2481",
   "metadata": {},
   "outputs": [
    {
     "name": "stdout",
     "output_type": "stream",
     "text": [
      "Accuracy on training data: 100.0 %\n"
     ]
    }
   ],
   "source": [
    "# Test classifer is 100% accurate on training data\n",
    "\n",
    "y_pred_train_rf = rf_classifier.predict(X_train)\n",
    "rf_training_accuracy = rf_classifier.score(X_train, y_train) * 100\n",
    "print(f'Accuracy on training data: {rf_training_accuracy:.1f} %')"
   ]
  },
  {
   "cell_type": "code",
   "execution_count": 28,
   "id": "1b8bb705-0a9e-487b-9b05-1cb1f58a95a3",
   "metadata": {},
   "outputs": [
    {
     "name": "stdout",
     "output_type": "stream",
     "text": [
      "Accuracy on testing data: 94.6 %\n"
     ]
    }
   ],
   "source": [
    "# Test classifier on test data\n",
    "\n",
    "y_pred_rf = rf_classifier.predict(X_test)\n",
    "rf_testing_accuracy = rf_classifier.score(X_test, y_test) * 100\n",
    "print(f'Accuracy on testing data: {rf_testing_accuracy:.1f} %')"
   ]
  },
  {
   "cell_type": "code",
   "execution_count": 29,
   "id": "928dd689-48e9-44a2-884e-dfb39dacf14e",
   "metadata": {},
   "outputs": [
    {
     "name": "stdout",
     "output_type": "stream",
     "text": [
      "              precision    recall  f1-score   support\n",
      "\n",
      "         0.0       0.96      0.99      0.97      1351\n",
      "         1.0       0.32      0.10      0.16        68\n",
      "\n",
      "    accuracy                           0.95      1419\n",
      "   macro avg       0.64      0.55      0.56      1419\n",
      "weighted avg       0.93      0.95      0.93      1419\n",
      "\n"
     ]
    }
   ],
   "source": [
    "# Get classification data\n",
    "\n",
    "print(classification_report(y_test, y_pred_rf))"
   ]
  },
  {
   "cell_type": "code",
   "execution_count": 30,
   "id": "9a47567a-6eaf-4b14-a224-c43566b960d3",
   "metadata": {},
   "outputs": [
    {
     "data": {
      "image/png": "[encoded data removed]",
      "text/plain": [
       "<Figure size 640x480 with 1 Axes>"
      ]
     },
     "metadata": {},
     "output_type": "display_data"
    }
   ],
   "source": [
    "rf_feature_importances = rf_classifier.feature_importances_\n",
    "rf_feature_importances_std = X.columns\n",
    "\n",
    "features = X.columns\n",
    "rf_indices = np.argsort(rf_feature_importances)\n",
    "\n",
    "plt.title('Feature Importances')\n",
    "plt.barh(range(len(rf_indices)), rf_feature_importances[rf_indices], color='b', align='center')\n",
    "plt.yticks(range(len(rf_indices)), [features[i] for i in rf_indices])\n",
    "plt.xlabel('Relative Importance')\n",
    "plt.show()"
   ]
  },
  {
   "cell_type": "markdown",
   "id": "bf2b0de6-f10e-4ebe-ad58-e78d7983e280",
   "metadata": {},
   "source": [
    "## Standard Vector Machine"
   ]
  },
  {
   "cell_type": "code",
   "execution_count": 34,
   "id": "d5daf060-214f-4ff8-ba6f-b153e985be30",
   "metadata": {},
   "outputs": [
    {
     "data": {
      "text/html": [
       "<style>#sk-container-id-4 {color: black;}#sk-container-id-4 pre{padding: 0;}#sk-container-id-4 div.sk-toggleable {background-color: white;}#sk-container-id-4 label.sk-toggleable__label {cursor: pointer;display: block;width: 100%;margin-bottom: 0;padding: 0.3em;box-sizing: border-box;text-align: center;}#sk-container-id-4 label.sk-toggleable__label-arrow:before {content: \"▸\";float: left;margin-right: 0.25em;color: #696969;}#sk-container-id-4 label.sk-toggleable__label-arrow:hover:before {color: black;}#sk-container-id-4 div.sk-estimator:hover label.sk-toggleable__label-arrow:before {color: black;}#sk-container-id-4 div.sk-toggleable__content {max-height: 0;max-width: 0;overflow: hidden;text-align: left;background-color: #f0f8ff;}#sk-container-id-4 div.sk-toggleable__content pre {margin: 0.2em;color: black;border-radius: 0.25em;background-color: #f0f8ff;}#sk-container-id-4 input.sk-toggleable__control:checked~div.sk-toggleable__content {max-height: 200px;max-width: 100%;overflow: auto;}#sk-container-id-4 input.sk-toggleable__control:checked~label.sk-toggleable__label-arrow:before {content: \"▾\";}#sk-container-id-4 div.sk-estimator input.sk-toggleable__control:checked~label.sk-toggleable__label {background-color: #d4ebff;}#sk-container-id-4 div.sk-label input.sk-toggleable__control:checked~label.sk-toggleable__label {background-color: #d4ebff;}#sk-container-id-4 input.sk-hidden--visually {border: 0;clip: rect(1px 1px 1px 1px);clip: rect(1px, 1px, 1px, 1px);height: 1px;margin: -1px;overflow: hidden;padding: 0;position: absolute;width: 1px;}#sk-container-id-4 div.sk-estimator {font-family: monospace;background-color: #f0f8ff;border: 1px dotted black;border-radius: 0.25em;box-sizing: border-box;margin-bottom: 0.5em;}#sk-container-id-4 div.sk-estimator:hover {background-color: #d4ebff;}#sk-container-id-4 div.sk-parallel-item::after {content: \"\";width: 100%;border-bottom: 1px solid gray;flex-grow: 1;}#sk-container-id-4 div.sk-label:hover label.sk-toggleable__label {background-color: #d4ebff;}#sk-container-id-4 div.sk-serial::before {content: \"\";position: absolute;border-left: 1px solid gray;box-sizing: border-box;top: 0;bottom: 0;left: 50%;z-index: 0;}#sk-container-id-4 div.sk-serial {display: flex;flex-direction: column;align-items: center;background-color: white;padding-right: 0.2em;padding-left: 0.2em;position: relative;}#sk-container-id-4 div.sk-item {position: relative;z-index: 1;}#sk-container-id-4 div.sk-parallel {display: flex;align-items: stretch;justify-content: center;background-color: white;position: relative;}#sk-container-id-4 div.sk-item::before, #sk-container-id-4 div.sk-parallel-item::before {content: \"\";position: absolute;border-left: 1px solid gray;box-sizing: border-box;top: 0;bottom: 0;left: 50%;z-index: -1;}#sk-container-id-4 div.sk-parallel-item {display: flex;flex-direction: column;z-index: 1;position: relative;background-color: white;}#sk-container-id-4 div.sk-parallel-item:first-child::after {align-self: flex-end;width: 50%;}#sk-container-id-4 div.sk-parallel-item:last-child::after {align-self: flex-start;width: 50%;}#sk-container-id-4 div.sk-parallel-item:only-child::after {width: 0;}#sk-container-id-4 div.sk-dashed-wrapped {border: 1px dashed gray;margin: 0 0.4em 0.5em 0.4em;box-sizing: border-box;padding-bottom: 0.4em;background-color: white;}#sk-container-id-4 div.sk-label label {font-family: monospace;font-weight: bold;display: inline-block;line-height: 1.2em;}#sk-container-id-4 div.sk-label-container {text-align: center;}#sk-container-id-4 div.sk-container {/* jupyter's `normalize.less` sets `[hidden] { display: none; }` but bootstrap.min.css set `[hidden] { display: none !important; }` so we also need the `!important` here to be able to override the default hidden behavior on the sphinx rendered scikit-learn.org. See: https://github.com/scikit-learn/scikit-learn/issues/21755 */display: inline-block !important;position: relative;}#sk-container-id-4 div.sk-text-repr-fallback {display: none;}</style><div id=\"sk-container-id-4\" class=\"sk-top-container\"><div class=\"sk-text-repr-fallback\"><pre>SVC(gamma=&#x27;auto&#x27;, random_state=42)</pre><b>In a Jupyter environment, please rerun this cell to show the HTML representation or trust the notebook. <br />On GitHub, the HTML representation is unable to render, please try loading this page with nbviewer.org.</b></div><div class=\"sk-container\" hidden><div class=\"sk-item\"><div class=\"sk-estimator sk-toggleable\"><input class=\"sk-toggleable__control sk-hidden--visually\" id=\"sk-estimator-id-4\" type=\"checkbox\" checked><label for=\"sk-estimator-id-4\" class=\"sk-toggleable__label sk-toggleable__label-arrow\">SVC</label><div class=\"sk-toggleable__content\"><pre>SVC(gamma=&#x27;auto&#x27;, random_state=42)</pre></div></div></div></div></div>"
      ],
      "text/plain": [
       "SVC(gamma='auto', random_state=42)"
      ]
     },
     "execution_count": 34,
     "metadata": {},
     "output_type": "execute_result"
    }
   ],
   "source": [
    "# Fit svm model\n",
    "\n",
    "svc = SVC(random_state=42, gamma='auto')\n",
    "svc.fit(X_train, y_train)"
   ]
  },
  {
   "cell_type": "code",
   "execution_count": 35,
   "id": "a1a032b1-900f-4c5e-bbd4-aa48af5d3cfd",
   "metadata": {},
   "outputs": [
    {
     "name": "stdout",
     "output_type": "stream",
     "text": [
      "Accuracy on training data: 95.2 %\n"
     ]
    }
   ],
   "source": [
    "# Test svm model on test data\n",
    "\n",
    "y_pred_svm = svc.predict(X_test)\n",
    "svm_testing_accuracy = svc.score(X_test, y_test) * 100\n",
    "print(f'Accuracy on training data: {svm_testing_accuracy:.1f} %')"
   ]
  },
  {
   "cell_type": "code",
   "execution_count": 36,
   "id": "1717c01a-273d-41d8-9bdf-d2d5cee15667",
   "metadata": {},
   "outputs": [
    {
     "name": "stdout",
     "output_type": "stream",
     "text": [
      "              precision    recall  f1-score   support\n",
      "\n",
      "         0.0       0.95      1.00      0.98      1351\n",
      "         1.0       0.00      0.00      0.00        68\n",
      "\n",
      "    accuracy                           0.95      1419\n",
      "   macro avg       0.48      0.50      0.49      1419\n",
      "weighted avg       0.91      0.95      0.93      1419\n",
      "\n"
     ]
    },
    {
     "name": "stderr",
     "output_type": "stream",
     "text": [
      "/Users/maxdolan/miniforge3/lib/python3.10/site-packages/sklearn/metrics/_classification.py:1469: UndefinedMetricWarning: Precision and F-score are ill-defined and being set to 0.0 in labels with no predicted samples. Use `zero_division` parameter to control this behavior.\n",
      "  _warn_prf(average, modifier, msg_start, len(result))\n",
      "/Users/maxdolan/miniforge3/lib/python3.10/site-packages/sklearn/metrics/_classification.py:1469: UndefinedMetricWarning: Precision and F-score are ill-defined and being set to 0.0 in labels with no predicted samples. Use `zero_division` parameter to control this behavior.\n",
      "  _warn_prf(average, modifier, msg_start, len(result))\n",
      "/Users/maxdolan/miniforge3/lib/python3.10/site-packages/sklearn/metrics/_classification.py:1469: UndefinedMetricWarning: Precision and F-score are ill-defined and being set to 0.0 in labels with no predicted samples. Use `zero_division` parameter to control this behavior.\n",
      "  _warn_prf(average, modifier, msg_start, len(result))\n"
     ]
    }
   ],
   "source": [
    "# Get classification model on SVM data\n",
    "\n",
    "print(classification_report(y_test, y_pred_svm))"
   ]
  },
  {
   "cell_type": "code",
   "execution_count": null,
   "id": "1675c774-4ed3-4430-87f9-a30dfe227654",
   "metadata": {},
   "outputs": [],
   "source": []
  }
 ],
 "metadata": {
  "kernelspec": {
   "display_name": "Python 3 (ipykernel)",
   "language": "python",
   "name": "python3"
  },
  "language_info": {
   "codemirror_mode": {
    "name": "ipython",
    "version": 3
   },
   "file_extension": ".py",
   "mimetype": "text/x-python",
   "name": "python",
   "nbconvert_exporter": "python",
   "pygments_lexer": "ipython3",
   "version": "3.10.12"
  }
 },
 "nbformat": 4,
 "nbformat_minor": 5
}
